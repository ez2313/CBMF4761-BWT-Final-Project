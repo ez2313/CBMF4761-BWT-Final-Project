{
  "cells": [
    {
      "cell_type": "code",
      "execution_count": null,
      "metadata": {
        "id": "VaNXoAqOtFX_"
      },
      "outputs": [],
      "source": [
        "import numpy as np\n",
        "import random as rand\n",
        "import matplotlib.pyplot as plt"
      ]
    },
    {
      "cell_type": "code",
      "execution_count": null,
      "metadata": {
        "id": "S-Jca2SOF8YR"
      },
      "outputs": [],
      "source": [
        "#BWT for use in alignment\n",
        "#Note: I incorporated elements from Lagmeads open resources\n",
        "def rotations(t):\n",
        "  tt=t*2\n",
        "  return [ tt[i:i+len(t)] for i in range(len(t)) ] "
      ]
    },
    {
      "cell_type": "code",
      "execution_count": null,
      "metadata": {
        "id": "iGqrdyKGGbcm"
      },
      "outputs": [],
      "source": [
        "def BWT(t):\n",
        "  matrix=sorted(rotations(t))\n",
        "  output=''\n",
        "  for row in matrix:\n",
        "    output=output+row[-1]\n",
        "  return output"
      ]
    },
    {
      "cell_type": "code",
      "execution_count": null,
      "metadata": {
        "id": "_yv5lPR1G-Jl"
      },
      "outputs": [],
      "source": [
        "###todo, fixup!\n",
        "def BWT_inverse(t):\n",
        "  temp=t\n",
        "  output=\"\"\n",
        "  for i in range(1,len(t)+1):\n",
        "    for j in range(1,len(t)+1):\n",
        "      print(i,j)\n",
        "      print(output)\n",
        "      output.join(output[j]+sorted(output)[j])\n",
        "  return output\n",
        "    \n",
        "  "
      ]
    },
    {
      "cell_type": "code",
      "execution_count": null,
      "metadata": {
        "id": "iDxTff4yxHOM"
      },
      "outputs": [],
      "source": [
        "##Credit: Benjamin Langmead \"FMIndex\"\n",
        "##next cells are from open source notebook\n",
        "def suffixArray(s):\n",
        "    ''' Given T return suffix array SA(T).  Uses \"sorted\"\n",
        "        function for simplicity, which is probably very slow. '''\n",
        "    satups = sorted([(s[i:], i) for i in range(len(s))])\n",
        "    return list(map(lambda x: x[1], satups)) # extract, return just offsets\n",
        "\n",
        "def bwtFromSa(t, sa=None):\n",
        "    ''' Given T, returns BWT(T) by way of the suffix array. '''\n",
        "    bw = []\n",
        "    dollarRow = None\n",
        "    if sa is None:\n",
        "        sa = suffixArray(t)\n",
        "    for si in sa:\n",
        "        if si == 0:\n",
        "            dollarRow = len(bw)\n",
        "            bw.append('$')\n",
        "        else:\n",
        "            bw.append(t[si-1])\n",
        "    return ''.join(bw), dollarRow # return string-ized version of list bw"
      ]
    },
    {
      "cell_type": "code",
      "execution_count": null,
      "metadata": {
        "id": "Zw0mgWF_xHOO"
      },
      "outputs": [],
      "source": [
        "class FmCheckpoints(object):\n",
        "    ''' Manages rank checkpoints and handles rank queries, which are\n",
        "        O(1) time, with the checkpoints taking O(m) space, where m is\n",
        "        length of text. '''\n",
        "    \n",
        "    def __init__(self, bw, cpIval=4):\n",
        "        ''' Scan BWT, creating periodic checkpoints as we go '''\n",
        "        self.cps = {}        # checkpoints\n",
        "        self.cpIval = cpIval # spacing between checkpoints\n",
        "        tally = {}           # tally so far\n",
        "        # Create an entry in tally dictionary and checkpoint map for\n",
        "        # each distinct character in text\n",
        "        for c in bw:\n",
        "            if c not in tally:\n",
        "                tally[c] = 0\n",
        "                self.cps[c] = []\n",
        "        # Now build the checkpoints\n",
        "        for i, c in enumerate(bw):\n",
        "            tally[c] += 1 # up to *and including*\n",
        "            if i % cpIval == 0:\n",
        "                for c in tally.keys():\n",
        "                    self.cps[c].append(tally[c])\n",
        "    \n",
        "    def rank(self, bw, c, row):\n",
        "        ''' Return # c's there are in bw up to and including row '''\n",
        "        if row < 0 or c not in self.cps:\n",
        "            return 0\n",
        "        i, nocc = row, 0\n",
        "        # Always walk to left (up) when calculating rank\n",
        "        while (i % self.cpIval) != 0:\n",
        "            if bw[i] == c:\n",
        "                nocc += 1\n",
        "            i -= 1\n",
        "        return self.cps[c][i // self.cpIval] + nocc"
      ]
    },
    {
      "cell_type": "code",
      "execution_count": null,
      "metadata": {
        "id": "795R7p6LxHOP"
      },
      "outputs": [],
      "source": [
        "st = 'teststring'\n",
        "#     0123456789\n",
        "cps = FmCheckpoints(st)"
      ]
    },
    {
      "cell_type": "code",
      "execution_count": null,
      "metadata": {
        "colab": {
          "base_uri": "https://localhost:8080/"
        },
        "id": "53B8Y8oHxHOP",
        "outputId": "e03368c3-b45f-4b90-df61-6b9edc47b683"
      },
      "outputs": [
        {
          "data": {
            "text/plain": [
              "[1, 1, 1, 2, 2, 3, 3, 3, 3, 3]"
            ]
          },
          "execution_count": 23,
          "metadata": {},
          "output_type": "execute_result"
        }
      ],
      "source": [
        "# should get back list of integers, where elt i gives\n",
        "# # times 't' appears up to and including offset i\n",
        "[ cps.rank(st, 't', i) for i in range(10) ]"
      ]
    },
    {
      "cell_type": "code",
      "execution_count": null,
      "metadata": {
        "colab": {
          "base_uri": "https://localhost:8080/"
        },
        "id": "Dokzd5mJxHOR",
        "outputId": "69981406-5b16-4a78-b982-bbf13ad5454f"
      },
      "outputs": [
        {
          "data": {
            "text/plain": [
              "[0, 0, 0, 0, 0, 0, 0, 0, 0, 1]"
            ]
          },
          "execution_count": 24,
          "metadata": {},
          "output_type": "execute_result"
        }
      ],
      "source": [
        "# likewise for 'g'\n",
        "[ cps.rank(st, 'g', i) for i in range(10) ]"
      ]
    },
    {
      "cell_type": "code",
      "execution_count": null,
      "metadata": {
        "id": "1dmmISuRxHOS"
      },
      "outputs": [],
      "source": [
        "class FmIndex():\n",
        "    ''' O(m) size FM Index, where checkpoints and suffix array samples are\n",
        "        spaced O(1) elements apart.  Queries like count() and range() are\n",
        "        O(n) where n is the length of the query.  Finding all k\n",
        "        occurrences of a length-n query string takes O(n + k) time.\n",
        "        \n",
        "        Note: The spacings in the suffix array sample and checkpoints can\n",
        "        be chosen differently to achieve different bounds. '''\n",
        "    \n",
        "    @staticmethod\n",
        "    def downsampleSuffixArray(sa, n=4):\n",
        "        ''' Take only the suffix-array entries for every nth suffix.  Keep\n",
        "            suffixes at offsets 0, n, 2n, etc with respect to the text.\n",
        "            Return map from the rows to their suffix-array values. '''\n",
        "        ssa = {}\n",
        "        for i, suf in enumerate(sa):\n",
        "            # We could use i % n instead of sa[i] % n, but we lose the\n",
        "            # constant-time guarantee for resolutions\n",
        "            if suf % n == 0:\n",
        "                ssa[i] = suf\n",
        "        return ssa\n",
        "    \n",
        "    def __init__(self, t, cpIval=4, ssaIval=4):\n",
        "        if t[-1] != '$':\n",
        "            t += '$' # add dollar if not there already\n",
        "        # Get BWT string and offset of $ within it\n",
        "        sa = suffixArray(t)\n",
        "        self.bwt, self.dollarRow = bwtFromSa(t, sa)\n",
        "        # Get downsampled suffix array, taking every 1 out of 'ssaIval'\n",
        "        # elements w/r/t T\n",
        "        self.ssa = self.downsampleSuffixArray(sa, ssaIval)\n",
        "        self.slen = len(self.bwt)\n",
        "        # Make rank checkpoints\n",
        "        self.cps = FmCheckpoints(self.bwt, cpIval)\n",
        "        # Calculate # occurrences of each character\n",
        "        tots = dict()\n",
        "        for c in self.bwt:\n",
        "            tots[c] = tots.get(c, 0) + 1\n",
        "        # Calculate concise representation of first column\n",
        "        self.first = {}\n",
        "        totc = 0\n",
        "        for c, count in sorted(tots.items()):\n",
        "            self.first[c] = totc\n",
        "            totc += count\n",
        "    \n",
        "    def count(self, c):\n",
        "        ''' Return number of occurrences of characters < c '''\n",
        "        if c not in self.first:\n",
        "            # (Unusual) case where c does not occur in text\n",
        "            for cc in sorted(self.first.keys()):\n",
        "                if c < cc: return self.first[cc]\n",
        "            return self.first[cc]\n",
        "        else:\n",
        "            return self.first[c]\n",
        "    \n",
        "    def range(self, p):\n",
        "        ''' Return range of BWM rows having p as a prefix '''\n",
        "        l, r = 0, self.slen - 1 # closed (inclusive) interval\n",
        "        for i in range(len(p)-1, -1, -1): # from right to left\n",
        "            l = self.cps.rank(self.bwt, p[i], l-1) + self.count(p[i])\n",
        "            r = self.cps.rank(self.bwt, p[i], r)   + self.count(p[i]) - 1\n",
        "            if r < l:\n",
        "                break\n",
        "        return l, r+1\n",
        "    \n",
        "    def resolve(self, row):\n",
        "        ''' Given BWM row, return its offset w/r/t T '''\n",
        "        def stepLeft(row):\n",
        "            ''' Step left according to character in given BWT row '''\n",
        "            c = self.bwt[row]\n",
        "            return self.cps.rank(self.bwt, c, row-1) + self.count(c)\n",
        "        nsteps = 0\n",
        "        while row not in self.ssa:\n",
        "            row = stepLeft(row)\n",
        "            nsteps += 1\n",
        "        return self.ssa[row] + nsteps\n",
        "    \n",
        "    def hasSubstring(self, p):\n",
        "        ''' Return true if and only if p is substring of indexed text '''\n",
        "        l, r = self.range(p)\n",
        "        return r > l\n",
        "    \n",
        "    def hasSuffix(self, p):\n",
        "        ''' Return true if and only if p is suffix of indexed text '''\n",
        "        l, r = self.range(p)\n",
        "        off = self.resolve(l)\n",
        "        return r > l and off + len(p) == self.slen-1\n",
        "    \n",
        "    def occurrences(self, p):\n",
        "        ''' Return offsets for all occurrences of p, in no particular order '''\n",
        "        l, r = self.range(p)\n",
        "        return [ self.resolve(x) for x in range(l, r) ]"
      ]
    },
    {
      "cell_type": "code",
      "execution_count": null,
      "metadata": {
        "id": "X-IlOPXJxHOT"
      },
      "outputs": [],
      "source": [
        "fm = FmIndex('abaaba')"
      ]
    },
    {
      "cell_type": "code",
      "execution_count": null,
      "metadata": {
        "colab": {
          "base_uri": "https://localhost:8080/"
        },
        "id": "XvrkacCyxHOT",
        "outputId": "1d1d56d3-3529-4762-935a-9194d4221fb8"
      },
      "outputs": [
        {
          "data": {
            "text/plain": [
              "True"
            ]
          },
          "execution_count": 27,
          "metadata": {},
          "output_type": "execute_result"
        }
      ],
      "source": [
        "fm.hasSubstring('aaba')"
      ]
    },
    {
      "cell_type": "code",
      "execution_count": null,
      "metadata": {
        "colab": {
          "base_uri": "https://localhost:8080/"
        },
        "id": "fxZPmZVvxHOV",
        "outputId": "5eb3dd67-298d-4116-e7df-d856e1084bf1"
      },
      "outputs": [
        {
          "data": {
            "text/plain": [
              "False"
            ]
          },
          "execution_count": 28,
          "metadata": {},
          "output_type": "execute_result"
        }
      ],
      "source": [
        "fm.hasSubstring('aabb')"
      ]
    },
    {
      "cell_type": "code",
      "execution_count": null,
      "metadata": {
        "colab": {
          "base_uri": "https://localhost:8080/"
        },
        "id": "twelfr7TxHOW",
        "outputId": "eb59ccf5-6445-454c-817d-c1c35b626341"
      },
      "outputs": [
        {
          "data": {
            "text/plain": [
              "(1, 5)"
            ]
          },
          "execution_count": 29,
          "metadata": {},
          "output_type": "execute_result"
        }
      ],
      "source": [
        "fm.range('a')"
      ]
    },
    {
      "cell_type": "code",
      "execution_count": null,
      "metadata": {
        "colab": {
          "base_uri": "https://localhost:8080/"
        },
        "id": "FGgY1hXOxHOW",
        "outputId": "74768d96-1cbe-4aea-fdf0-ef2700f192d4"
      },
      "outputs": [
        {
          "data": {
            "text/plain": [
              "(6, 7)"
            ]
          },
          "execution_count": 30,
          "metadata": {},
          "output_type": "execute_result"
        }
      ],
      "source": [
        "fm.range('baaba')"
      ]
    },
    {
      "cell_type": "code",
      "execution_count": null,
      "metadata": {
        "colab": {
          "base_uri": "https://localhost:8080/"
        },
        "id": "Bux0Ox6bxHOW",
        "outputId": "0292592d-1ecb-478d-a661-d5d4f2d2e7b2"
      },
      "outputs": [
        {
          "data": {
            "text/plain": [
              "True"
            ]
          },
          "execution_count": 31,
          "metadata": {},
          "output_type": "execute_result"
        }
      ],
      "source": [
        "p, t = \"CAT\", \"TTGTGTGCATGTTGTTTCATCATTTAGAGATACATTGCGCTGCATCATGGTCA\"\n",
        "#              01234567890123456789012345678901234567890123456789012\n",
        "# Occurrences:        *         *  *           *         *  *\n",
        "fm = FmIndex(t)\n",
        "matches = sorted(fm.occurrences(p))\n",
        "matches == [7, 17, 20, 32, 42, 45]\n",
        "\n",
        "####end credit"
      ]
    },
    {
      "cell_type": "code",
      "execution_count": null,
      "metadata": {
        "id": "mqq9ZRntlIGt"
      },
      "outputs": [],
      "source": [
        "#regular DP global alignment for basis of comparison in simulations:\n",
        "def S(x,y):\n",
        "  if x==y:\n",
        "    return 5\n",
        "  if x == '-' or y == '-': \n",
        "    return -2\n",
        "  else:\n",
        "    return -5\n",
        "\n",
        "def DPalignment(x,y,S):\n",
        "  M=np.zeros((len(x),len(y)))\n",
        "  for i in range(len(x)):\n",
        "    for j in range(len(y)):\n",
        "      M[i,j]=max(\n",
        "          M[i-1,j-1]+S(x[i],y[j]),\n",
        "          M[i,j-1]+S(x[i],\"-\"),\n",
        "          M[i-1,j]+S(\"-\",y[j])\n",
        "      )\n",
        "  return M[len(x)-1,len(y)-1]\n",
        "\n"
      ]
    },
    {
      "cell_type": "code",
      "execution_count": null,
      "metadata": {
        "colab": {
          "base_uri": "https://localhost:8080/"
        },
        "id": "1ENNy5xYt8Cj",
        "outputId": "01884ae3-957a-4355-f8de-697213e2728d"
      },
      "outputs": [
        {
          "data": {
            "text/plain": [
              "34.0"
            ]
          },
          "execution_count": 33,
          "metadata": {},
          "output_type": "execute_result"
        }
      ],
      "source": [
        "DPalignment('TACGTCAGC', 'TATGTCATGC',S)"
      ]
    },
    {
      "cell_type": "code",
      "execution_count": null,
      "metadata": {
        "id": "Tb_Hgc0s_tqy"
      },
      "outputs": [],
      "source": [
        "#functions for use in alignmnent in protein space\n",
        "import numpy as np\n",
        "\n",
        "def convert(nucleotide_sequence):\n",
        "    #dictionary to convert nucleotide\n",
        "    mapping={\n",
        "    \"GCT\": \"A\",\n",
        "    \"GCC\": \"A\",\n",
        "    \"GCA\": \"A\",\n",
        "    \"GCG\": \"A\",\n",
        "    \"CGT\": \"R\",\n",
        "    \"CGC\" : \"R\",\n",
        "    \"CGA\" : \"R\",\n",
        "    \"CGG\": \"R\",\n",
        "    \"AGA\": \"R\",\n",
        "    \"AGG\": \"R\",\n",
        "    \"AAT\": \"N\",\n",
        "    \"AAC\": \"N\",\n",
        "    \"GAT\": \"D\",\n",
        "    \"GAC\": \"D\",\n",
        "    \"AAT\": \"B\",\n",
        "    \"AAC\": \"B\",\n",
        "    \"GAT\": \"B\",\n",
        "    \"GAC\": \"B\",\n",
        "    \"TGT\": \"C\",\n",
        "    \"TGC\": \"C\",\n",
        "    \"CAA\":\"Q\",\n",
        "    \"CAG\": \"Q\",\n",
        "    \"GAA\": \"E\",\n",
        "    \"GAG\": \"E\",\n",
        "    \"CAA\": \"Z\", \n",
        "    \"CAG\": \"Z\",\n",
        "    \"GAA\": \"Z\", \n",
        "    \"GAG\": \"Z\",\n",
        "    \"GGT\": \"G\", \n",
        "    \"GGC\": \"G\",\n",
        "    \"GGA\": \"G\",\n",
        "    \"GGG\": \"G\",\n",
        "    \"CAT\": \"H\",\n",
        "    \"CAC\": \"H\",\n",
        "    \"ATG\": \"M\",\n",
        "    \"ATT\": \"I\",\n",
        "    \"ATC\": \"I\", \n",
        "    \"ATA\": \"I\",\n",
        "    \"CTT\": \"L\", \n",
        "    \"CTC\": \"L\", \n",
        "    \"CTA\": \"L\", \n",
        "    \"CTG\": \"L\",\n",
        "     \"TTA\": \"L\",\n",
        "     \"TTG\" : \"L\",\n",
        "     \"AAA\": \"K\",\n",
        "    \"AAG\": \"K\",\n",
        "    \"TTT\": \"F\",\n",
        "    \"TTC\": \"F\",\n",
        "    \"CCT\": \"P\", \n",
        "    \"CCC\": \"P\", \n",
        "    \"CCA\": \"P\", \n",
        "    \"CCG\": \"P\", \n",
        "    \"TCT\": \"S\", \n",
        "    \"TCC\": \"S\", \n",
        "    \"TCA\": \"S\", \n",
        "    \"TCG\": \"S\", \n",
        "    \"AGT\": \"S\", \n",
        "    \"AGC\": \"S\",\n",
        "    \"ACT\": \"T\", \n",
        "    \"ACC\": \"T\", \n",
        "    \"ACA\": \"T\", \n",
        "    \"ACG\" : \"T\",\n",
        "    \"TGG\": \"W\",\n",
        "    \"TAT\": \"Y\", \n",
        "    \"TAC\": \"Y\",\n",
        "    \"GTT\": \"V\", \n",
        "    \"GTC\": \"V\", \n",
        "    \"GTA\": \"V\", \n",
        "    \"GTG\": \"V\",\n",
        "    \"TAA\": \"U\", \n",
        "    \"TGA\": \"U\", \n",
        "    \"TAG\": \"U\",#stop codons\n",
        "\n",
        "\n",
        "    }\n",
        "    protein=\"\"\n",
        "    counter=0\n",
        "    while counter<=len(nucleotide_sequence)-3:\n",
        "      protein=protein+mapping[nucleotide_sequence[counter:counter+3]]\n",
        "      counter=counter+3;\n",
        "    return protein"
      ]
    },
    {
      "cell_type": "code",
      "execution_count": null,
      "metadata": {
        "colab": {
          "base_uri": "https://localhost:8080/",
          "height": 36
        },
        "id": "B_3bZjXfAhCO",
        "outputId": "edefbd3b-85b2-4291-f34e-373bee8ea180"
      },
      "outputs": [
        {
          "data": {
            "application/vnd.google.colaboratory.intrinsic+json": {
              "type": "string"
            },
            "text/plain": [
              "'ARRRB'"
            ]
          },
          "execution_count": 103,
          "metadata": {},
          "output_type": "execute_result"
        }
      ],
      "source": [
        "convert(\"GCTCGTAGAAGGGAT\")"
      ]
    },
    {
      "cell_type": "code",
      "execution_count": null,
      "metadata": {
        "id": "LXQBmWGgD4MW"
      },
      "outputs": [],
      "source": [
        "seq=\"GCTCGTAGAAGGGAT\""
      ]
    },
    {
      "cell_type": "code",
      "execution_count": null,
      "metadata": {
        "id": "VVRWHSVGHrSC"
      },
      "outputs": [],
      "source": [
        "def translate_reads(nucleotide_sequence):\n",
        "  orfs=[]\n",
        "  #given read, check 6 ORF and create protein sequence for each\n",
        "  for i in range(3):\n",
        "    protein=convert(nucleotide_sequence[i:])\n",
        "    orfs.append(protein)\n",
        "  #complement direction  \n",
        "  reversed=nucleotide_sequence[::-1]\n",
        "  for i in range(3):\n",
        "    protein=convert(reversed[i:])\n",
        "    orfs.append(protein)\n",
        "  return(orfs)"
      ]
    },
    {
      "cell_type": "code",
      "execution_count": null,
      "metadata": {
        "colab": {
          "base_uri": "https://localhost:8080/"
        },
        "id": "Opqu7h01I3LW",
        "outputId": "e32c5b10-fda1-41dd-fc9a-aec403841031"
      },
      "outputs": [
        {
          "data": {
            "text/plain": [
              "['ARRRB', 'LVZG', 'SUKG', 'UGRCS', 'RZBA', 'GKML']"
            ]
          },
          "execution_count": 106,
          "metadata": {},
          "output_type": "execute_result"
        }
      ],
      "source": [
        "translate_reads(seq)"
      ]
    },
    {
      "cell_type": "code",
      "execution_count": null,
      "metadata": {
        "id": "-Ew-2YlMRgbz"
      },
      "outputs": [],
      "source": [
        "#alignment of reads in protein space, if given reference protein\n",
        "def align(protein_ref, nucleotide_sequence):\n",
        "  reads=translate_reads(nucleotide_sequence)\n",
        "  \n",
        "  best_value=0\n",
        "  for read in reads:\n",
        "    j=0\n",
        "    matches=0\n",
        "    i=0\n",
        "    while i <len(read) and j<len(protein_ref):\n",
        "      if read[i]==protein_ref[j]:\n",
        "         matches=matches+1\n",
        "         j=j+1\n",
        "         i=i+1\n",
        "      else:\n",
        "        j=j+1\n",
        "    if matches>=best_value:\n",
        "      best_value=matches\n",
        "      best_read=read\n",
        "  return(best_read,best_value)\n",
        "\n",
        "      \n",
        "    \n",
        "\n",
        "\n",
        "    "
      ]
    },
    {
      "cell_type": "code",
      "execution_count": null,
      "metadata": {
        "colab": {
          "base_uri": "https://localhost:8080/"
        },
        "id": "w8E4FD0cRLy0",
        "outputId": "333e8a8f-57a4-4061-bf16-cdf0c9dc39e1"
      },
      "outputs": [
        {
          "data": {
            "text/plain": [
              "('RZBA', 4)"
            ]
          },
          "execution_count": 108,
          "metadata": {},
          "output_type": "execute_result"
        }
      ],
      "source": [
        "align('LRZBA',seq)"
      ]
    },
    {
      "cell_type": "code",
      "execution_count": null,
      "metadata": {
        "id": "3tlEl0EOSviR"
      },
      "outputs": [],
      "source": [
        "#improved alignment in protein space if given protein reference\n",
        "def align2(protein_ref, nucleotide_sequence):\n",
        "  reads=translate_reads(nucleotide_sequence)\n",
        "  \n",
        "  best_value=0\n",
        "  for k in range(len(reads)):\n",
        "    read=reads[k]\n",
        "    j=0\n",
        "    i=0\n",
        "    for i in range(len(read)):\n",
        "      for j in range(len(protein_ref)):\n",
        "        matches=0\n",
        "        if read[:i]==protein_ref[j:j+i]:\n",
        "          matches=1+matches+i\n",
        "        if matches>=best_value:\n",
        "          best_value=matches\n",
        "          best_read=read\n",
        "          #start of match in protein space\n",
        "          start=j\n",
        "          number=k\n",
        "  return(number,start,best_read,best_value)\n"
      ]
    },
    {
      "cell_type": "code",
      "execution_count": null,
      "metadata": {
        "colab": {
          "base_uri": "https://localhost:8080/"
        },
        "id": "dTShF4keTiu7",
        "outputId": "a60a295e-8517-49c6-bef3-35c44f6bdafb"
      },
      "outputs": [
        {
          "data": {
            "text/plain": [
              "(4, 1, 'RZBA', 4)"
            ]
          },
          "execution_count": 110,
          "metadata": {},
          "output_type": "execute_result"
        }
      ],
      "source": [
        "align2('LRZBA',seq)"
      ]
    },
    {
      "cell_type": "code",
      "execution_count": null,
      "metadata": {
        "id": "0YbHQ3t8UtDu"
      },
      "outputs": [],
      "source": [
        "def align3(nuc_ref,protein_ref,nucleotide_sequence):\n",
        "  number,start,best_read,best_value=align2(protein_ref,nucleotide_sequence)\n",
        "  if best_value != len(best_read):\n",
        "    #look up read loc\n",
        "    if number<3:\n",
        "      loc=number+best_value*3\n",
        "      read=nucleotide_sequence[loc::]\n",
        "    elif number>2:\n",
        "      reversed=nucleotide_sequence[::-1]\n",
        "      loc=(number-3)+best_value*3\n",
        "      read=reversed[loc::]\n",
        "    i=0\n",
        "    j=0\n",
        "    while i <len(read) and j<len(protein_ref):\n",
        "      if read[i]==protein_ref[j]:\n",
        "         matches=matches+1\n",
        "         j=j+1\n",
        "         i=i+1\n",
        "    return matches\n",
        "  elif best_value == len(best_read):\n",
        "    return \"fully mapped\"\n",
        "    \n"
      ]
    },
    {
      "cell_type": "code",
      "execution_count": null,
      "metadata": {
        "colab": {
          "base_uri": "https://localhost:8080/",
          "height": 36
        },
        "id": "PjEjaYeAZ9i4",
        "outputId": "4fe9419e-becb-43ad-b03b-70e2ae57654b"
      },
      "outputs": [
        {
          "data": {
            "application/vnd.google.colaboratory.intrinsic+json": {
              "type": "string"
            },
            "text/plain": [
              "'fully mapped'"
            ]
          },
          "execution_count": 112,
          "metadata": {},
          "output_type": "execute_result"
        }
      ],
      "source": [
        "align3(\"GCTCGTGCTCGTAGAAGGGAGAAGGGAT\",'LRZBA',seq)"
      ]
    },
    {
      "cell_type": "code",
      "execution_count": null,
      "metadata": {
        "id": "gVFsDaATBR-M"
      },
      "outputs": [],
      "source": [
        "#test FM index in protein space only\n",
        "#for exact match of full read\n",
        "def align_BWT_protein(nuc_read,nucleotide_sequence):\n",
        "  #create 6 ORF of read\n",
        "  reads=translate_reads(nuc_read)\n",
        "\n",
        "  #convert ref sequence to protein space\n",
        "  #create FM index\n",
        "  ref_protein=FmIndex(convert(nucleotide_sequence))\n",
        "  number_matches=0\n",
        "  matched=[]\n",
        "  for read in reads:\n",
        "    matches = sorted(ref_protein.occurrences(read))\n",
        "    #track all reads that matched\n",
        "    if ref_protein.hasSubstring(read):\n",
        "      matched.append(read)\n",
        "\n",
        "    #choose read as best based on existence+number of matches\n",
        "    #best match location is last\n",
        "    if len(matches)!=0 and len(matches)>number_matches:\n",
        "      number_matches=matches\n",
        "      best_read=read\n",
        "      best_match=matches[-1]\n",
        "  read_number=reads.index(best_read)\n",
        "\n",
        "  return best_read,read_number,best_match\n"
      ]
    },
    {
      "cell_type": "code",
      "execution_count": null,
      "metadata": {
        "colab": {
          "base_uri": "https://localhost:8080/"
        },
        "id": "iovSZsasET4e",
        "outputId": "92e4113e-e6c8-4faa-e8e3-6373b7642fbf"
      },
      "outputs": [
        {
          "name": "stdout",
          "output_type": "stream",
          "text": [
            "[8]\n"
          ]
        }
      ],
      "source": [
        "p,t=\"ATGCGTAGTAA\",\"GCTCGTGCATGCGTAGTAATCGTAGAAGGGAGAAGGGAT\"\n",
        "fm = FmIndex(t)\n",
        "matches = sorted(fm.occurrences(p))\n",
        "print(matches)"
      ]
    },
    {
      "cell_type": "code",
      "execution_count": null,
      "metadata": {
        "colab": {
          "base_uri": "https://localhost:8080/"
        },
        "id": "qKw1TrmJF43U",
        "outputId": "676f5ba1-171b-4d97-fcda-4adae69e13f9"
      },
      "outputs": [
        {
          "name": "stdout",
          "output_type": "stream",
          "text": [
            "[]\n",
            "MRS ARACVVIVZGRRB\n"
          ]
        }
      ],
      "source": [
        "p1,t1=convert(p),convert(t)\n",
        "fm = FmIndex(t1)\n",
        "matches = sorted(fm.occurrences(p1))\n",
        "print(matches)\n",
        "print(p1,t1)"
      ]
    },
    {
      "cell_type": "code",
      "execution_count": null,
      "metadata": {
        "colab": {
          "base_uri": "https://localhost:8080/"
        },
        "id": "3QI2wflZXQrt",
        "outputId": "64d326f6-be3d-481c-fa8c-bbfd85ed39c1"
      },
      "outputs": [
        {
          "data": {
            "text/plain": [
              "('CVV', 1, 3)"
            ]
          },
          "execution_count": 116,
          "metadata": {},
          "output_type": "execute_result"
        }
      ],
      "source": [
        "align_BWT_protein(p,t)"
      ]
    },
    {
      "cell_type": "code",
      "execution_count": null,
      "metadata": {
        "id": "0U6flRyYbIAz"
      },
      "outputs": [],
      "source": [
        "#refine translate and convert to store information beyond codons:\n",
        "def convert2(nucleotide_sequence):\n",
        "    #dictionary to convert nucleotide\n",
        "    mapping={\n",
        "    \"GCT\": \"A\",\n",
        "    \"GCC\": \"A\",\n",
        "    \"GCA\": \"A\",\n",
        "    \"GCG\": \"A\",\n",
        "    \"CGT\": \"R\",\n",
        "    \"CGC\" : \"R\",\n",
        "    \"CGA\" : \"R\",\n",
        "    \"CGG\": \"R\",\n",
        "    \"AGA\": \"R\",\n",
        "    \"AGG\": \"R\",\n",
        "    \"AAT\": \"N\",\n",
        "    \"AAC\": \"N\",\n",
        "    \"GAT\": \"D\",\n",
        "    \"GAC\": \"D\",\n",
        "    \"AAT\": \"B\",\n",
        "    \"AAC\": \"B\",\n",
        "    \"GAT\": \"B\",\n",
        "    \"GAC\": \"B\",\n",
        "    \"TGT\": \"C\",\n",
        "    \"TGC\": \"C\",\n",
        "    \"CAA\":\"Q\",\n",
        "    \"CAG\": \"Q\",\n",
        "    \"GAA\": \"E\",\n",
        "    \"GAG\": \"E\",\n",
        "    \"CAA\": \"Z\", \n",
        "    \"CAG\": \"Z\",\n",
        "    \"GAA\": \"Z\", \n",
        "    \"GAG\": \"Z\",\n",
        "    \"GGT\": \"G\", \n",
        "    \"GGC\": \"G\",\n",
        "    \"GGA\": \"G\",\n",
        "    \"GGG\": \"G\",\n",
        "    \"CAT\": \"H\",\n",
        "    \"CAC\": \"H\",\n",
        "    \"ATG\": \"M\",\n",
        "    \"ATT\": \"I\",\n",
        "    \"ATC\": \"I\", \n",
        "    \"ATA\": \"I\",\n",
        "    \"CTT\": \"L\", \n",
        "    \"CTC\": \"L\", \n",
        "    \"CTA\": \"L\", \n",
        "    \"CTG\": \"L\",\n",
        "     \"TTA\": \"L\",\n",
        "     \"TTG\" : \"L\",\n",
        "     \"AAA\": \"K\",\n",
        "    \"AAG\": \"K\",\n",
        "    \"TTT\": \"F\",\n",
        "    \"TTC\": \"F\",\n",
        "    \"CCT\": \"P\", \n",
        "    \"CCC\": \"P\", \n",
        "    \"CCA\": \"P\", \n",
        "    \"CCG\": \"P\", \n",
        "    \"TCT\": \"S\", \n",
        "    \"TCC\": \"S\", \n",
        "    \"TCA\": \"S\", \n",
        "    \"TCG\": \"S\", \n",
        "    \"AGT\": \"S\", \n",
        "    \"AGC\": \"S\",\n",
        "    \"ACT\": \"T\", \n",
        "    \"ACC\": \"T\", \n",
        "    \"ACA\": \"T\", \n",
        "    \"ACG\" : \"T\",\n",
        "    \"TGG\": \"W\",\n",
        "    \"TAT\": \"Y\", \n",
        "    \"TAC\": \"Y\",\n",
        "    \"GTT\": \"V\", \n",
        "    \"GTC\": \"V\", \n",
        "    \"GTA\": \"V\", \n",
        "    \"GTG\": \"V\",\n",
        "    \"TAA\": \"U\", \n",
        "    \"TGA\": \"U\", \n",
        "    \"TAG\": \"U\",#stop codons\n",
        "\n",
        "\n",
        "    }\n",
        "    protein=\"\"\n",
        "    counter=0\n",
        "    while counter<=len(nucleotide_sequence)-3:\n",
        "      protein=protein+mapping[nucleotide_sequence[counter:counter+3]]\n",
        "      counter=counter+3;\n",
        "    return protein,nucleotide_sequence[counter::]"
      ]
    },
    {
      "cell_type": "code",
      "execution_count": null,
      "metadata": {
        "colab": {
          "base_uri": "https://localhost:8080/"
        },
        "id": "QheFXynwcRDP",
        "outputId": "f6775021-e884-468d-d3ca-4931af94fe77"
      },
      "outputs": [
        {
          "data": {
            "text/plain": [
              "('ARRR', 'GG')"
            ]
          },
          "execution_count": 16,
          "metadata": {},
          "output_type": "execute_result"
        }
      ],
      "source": [
        "convert2(\"GCTCGTAGAAGGGG\")"
      ]
    },
    {
      "cell_type": "code",
      "execution_count": null,
      "metadata": {
        "id": "42ZXuXw5cghI"
      },
      "outputs": [],
      "source": [
        "def translate_reads2(nucleotide_sequence):\n",
        "  orfs=[]\n",
        "  nucs=[]\n",
        "  #given read, check 6 ORF and create protein sequence for each\n",
        "  for i in range(3):\n",
        "    protein,extra=convert2(nucleotide_sequence[i:])\n",
        "    orfs.append(protein)\n",
        "    nucs.append(extra)\n",
        "  #complement direction  \n",
        "  reversed=nucleotide_sequence[::-1]\n",
        "  for i in range(3):\n",
        "    protein=convert2(reversed[i:])\n",
        "    orfs.append(protein)\n",
        "    nucs.append(extra)\n",
        "  return(orfs,nucs)"
      ]
    },
    {
      "cell_type": "code",
      "execution_count": null,
      "metadata": {
        "colab": {
          "base_uri": "https://localhost:8080/"
        },
        "id": "9IexHfNec5On",
        "outputId": "a5d53219-946a-49b0-e623-dc85626cd64d"
      },
      "outputs": [
        {
          "data": {
            "text/plain": [
              "(['ARRRB', 'LVZG', 'SUKG', 'UGRCS', 'RZBA', 'GKML'],\n",
              " ['', 'AT', 'T', 'T', 'T', 'T'])"
            ]
          },
          "execution_count": 120,
          "metadata": {},
          "output_type": "execute_result"
        }
      ],
      "source": [
        "translate_reads2(seq)"
      ]
    },
    {
      "cell_type": "code",
      "execution_count": null,
      "metadata": {
        "id": "pF-inayWc9mb"
      },
      "outputs": [],
      "source": [
        "#test FM index in protein space and nucleotide space\n",
        "#start with exact alignment in protein space, then align in nucleotide space\n",
        "import time\n",
        "def align_BWT_protein_nuc(nuc_read,nucleotide_sequence):\n",
        "  start_time=time.time()\n",
        "  #create 6 ORF of read\n",
        "  reads,extras=translate_reads2(nuc_read)\n",
        "  \n",
        "  #convert ref sequence to protein space\n",
        "  #create FM index\n",
        "  ref_protein=FmIndex(convert(nucleotide_sequence))\n",
        "  number_matches=0\n",
        "  matched=[]\n",
        "  for read in reads:\n",
        "    matches = sorted(ref_protein.occurrences(read))\n",
        "    #track all reads that matched\n",
        "    if ref_protein.hasSubstring(read):\n",
        "      matched.append(read)\n",
        "\n",
        "    #choose read as best based on existence+number of matches\n",
        "    #best match location is last\n",
        "    if len(matches)!=0 and len(matches)>number_matches:\n",
        "      number_matches=len(matches)\n",
        "      best_read=read\n",
        "      best_match=matches[-1]\n",
        "      read_number=reads.index(best_read)\n",
        "\n",
        "      #if the best matched read has leftover nucleotide information, use to map further (should this be separate scoring?)\n",
        "      if extras[read_number]!=\"\":\n",
        "        newread=extras[read_number]\n",
        "        newref=nucleotide_sequence[:best_match*3]\n",
        "        i=0\n",
        "        j=0\n",
        "        while i <len(newread) and j<len(newref):\n",
        "            if newread[i]==newref[j]:\n",
        "              number_matches=number_matches+1\n",
        "              j=j+1\n",
        "              i=i+1\n",
        "            else:\n",
        "              i=i+1\n",
        "      \n",
        "  end_time=time.time()\n",
        "  return best_read,read_number,best_match, end_time-start_time\n",
        "\n",
        "\n",
        "\n",
        "    \n"
      ]
    },
    {
      "cell_type": "code",
      "execution_count": null,
      "metadata": {
        "colab": {
          "base_uri": "https://localhost:8080/"
        },
        "id": "Cyg0nwNxfjhQ",
        "outputId": "ece1b6f8-ddd4-407a-e4dd-d4abb8db2dd8"
      },
      "outputs": [
        {
          "data": {
            "text/plain": [
              "('CVV', 1, 3, 0.0003147125244140625)"
            ]
          },
          "execution_count": 122,
          "metadata": {},
          "output_type": "execute_result"
        }
      ],
      "source": [
        "align_BWT_protein_nuc(p,t)"
      ]
    },
    {
      "cell_type": "code",
      "execution_count": null,
      "metadata": {
        "id": "Ec99waHmEG3i"
      },
      "outputs": [],
      "source": [
        "#simulate read from reference protein for various lengths and various length reads\n",
        "def simulate_read(read_length,ref_length):\n",
        "  ref=''\n",
        "  for i in range(ref_length):\n",
        "    toss=rand.random()\n",
        "    if toss<.25:\n",
        "      ref=ref+\"A\"\n",
        "    if .25<=toss and toss<.5:\n",
        "      ref=ref+\"C\"\n",
        "    if .5<=toss and toss<.75:\n",
        "      ref=ref+\"G\"\n",
        "    else:\n",
        "      ref=ref+\"T\"\n",
        "  \n",
        "  guess=rand.randint(0, ref_length-read_length)\n",
        "  read=ref[guess::]\n",
        "  return read, ref, guess\n",
        "\n"
      ]
    },
    {
      "cell_type": "code",
      "execution_count": null,
      "metadata": {
        "colab": {
          "base_uri": "https://localhost:8080/"
        },
        "id": "Hy0UBUnIFtVa",
        "outputId": "44c5955e-a1b1-4e0d-e983-871890f12fa0"
      },
      "outputs": [
        {
          "data": {
            "text/plain": [
              "('TTTCTTCTTATTTGCTGTATTGATATTATCTTTGGCTTCTTGTCTCTTGGATTTATGGTGCTCTCTGATATATGGCTCTCTTGCTCTCTTGCTCTCTATCTTCTGCTCTATGGCTATCTCTATGATCTATTATATTTG',\n",
              " 'GCTTATCTTTGTTTCTTCTTATTTGCTGTATTGATATTATCTTTGGCTTCTTGTCTCTTGGATTTATGGTGCTCTCTGATATATGGCTCTCTTGCTCTCTTGCTCTCTATCTTCTGCTCTATGGCTATCTCTATGATCTATTATATTTG',\n",
              " 11)"
            ]
          },
          "execution_count": 124,
          "metadata": {},
          "output_type": "execute_result"
        }
      ],
      "source": [
        "simulate_read(20,100)"
      ]
    },
    {
      "cell_type": "code",
      "execution_count": null,
      "metadata": {
        "colab": {
          "base_uri": "https://localhost:8080/"
        },
        "id": "xU2xlRqDHg37",
        "outputId": "b8253d7d-b2f7-408a-9e79-4a44fa1b34f7"
      },
      "outputs": [
        {
          "data": {
            "text/plain": [
              "66"
            ]
          },
          "execution_count": 125,
          "metadata": {},
          "output_type": "execute_result"
        }
      ],
      "source": [
        "\"TCTGCTTATCTTATATGGTTTGATGATATCTTGCTCTATTGTTATGGTGATCTTATCTATGATCTTGTCTGCTCTGATTCTTCTGTGGGTGATATCTCTGTATATCTCTTGATGATATTGGATATTATTCTCTCTTGATATCTGATTT\".index('GTCTGCTCTGATTCTTCTGTGGGTGATATCTCTGTATATCTCTTGATGATATTGGATATTATTCTCTCTTGATATCTGATTT')"
      ]
    },
    {
      "cell_type": "code",
      "execution_count": null,
      "metadata": {
        "id": "fM8i2Jd1JXVC"
      },
      "outputs": [],
      "source": [
        "#lightly modified output for align function for testing\n",
        "#test FM index in protein space and nucleotide space\n",
        "#only for exact match of full read\n",
        "import time\n",
        "def align_test(nuc_read,nucleotide_sequence):\n",
        "  start_time=time.time()\n",
        "  #create 6 ORF of read\n",
        "  reads,extras=translate_reads2(nuc_read)\n",
        "  \n",
        "  #convert ref sequence to protein space\n",
        "  #create FM index\n",
        "  ref_protein=FmIndex(convert(nucleotide_sequence))\n",
        "  number_matches=0\n",
        "  matched=[]\n",
        "  for read in reads:\n",
        "    matches = sorted(ref_protein.occurrences(read))\n",
        "    #track all reads that matched\n",
        "    if ref_protein.hasSubstring(read):\n",
        "      matched.append(read)\n",
        "\n",
        "    #choose read as best based on existence+number of matches\n",
        "    #best match location is last\n",
        "    if len(matches)!=0 and len(matches)>number_matches:\n",
        "      number_matches=len(matches)\n",
        "      best_read=read\n",
        "      best_match=matches[-1]\n",
        "      read_number=reads.index(best_read)\n",
        "\n",
        "      #if the best matched read has leftover nucleotide information, use to map further (should this be separate scoring?)\n",
        "      if extras[read_number]!=\"\":\n",
        "        newread=extras[read_number]\n",
        "        newref=nucleotide_sequence[:best_match*3]\n",
        "        i=0\n",
        "        j=0\n",
        "        while i <len(newread) and j<len(newref):\n",
        "            if newread[i]==newref[j]:\n",
        "              number_matches=number_matches+1\n",
        "              j=j+1\n",
        "              i=i+1\n",
        "            else:\n",
        "              i=i+1\n",
        "      \n",
        "  end_time=time.time()\n",
        "  return best_read,number_matches,best_match, end_time-start_time\n",
        "\n",
        "\n",
        "\n",
        "    \n"
      ]
    },
    {
      "cell_type": "code",
      "execution_count": null,
      "metadata": {
        "id": "la87cqdH0vDO"
      },
      "outputs": [],
      "source": [
        "#test for comparison of speed with DP global alignment\n",
        "def DPtest(read_length,ref_length,number_of_reads):\n",
        "  start_overall=time.time()\n",
        "  correct=0\n",
        "  for i in range(number_of_reads):\n",
        "    read,ref,location=simulate_read(read_length,ref_length)\n",
        "    score=DPalignment(read,ref,S)\n",
        "    if score>0:\n",
        "      correct=correct+1\n",
        "  accuracy=correct/number_of_reads\n",
        "  end_overall=time.time()\n",
        "  overalltime=end_overall-start_overall\n",
        "  return accuracy, overalltime"
      ]
    },
    {
      "cell_type": "code",
      "execution_count": null,
      "metadata": {
        "id": "LY_I3B0t2Lm4"
      },
      "outputs": [],
      "source": [
        "accuracy, overalltime=DPtest(20,1000,100)"
      ]
    },
    {
      "cell_type": "code",
      "execution_count": null,
      "metadata": {
        "id": "H2yWEhPj28tu"
      },
      "outputs": [],
      "source": [
        "print(\"accuracy:%f\" %accuracy)\n",
        "print(\"overalltime:%f\" %overalltime)"
      ]
    },
    {
      "cell_type": "code",
      "execution_count": null,
      "metadata": {
        "id": "MYyXQT5ZHne3"
      },
      "outputs": [],
      "source": [
        "#test align function on randomly generated reads\n",
        "#should give measure of speed of alignment\n",
        "def test(read_length,ref_length,number_of_reads):\n",
        "  start_overall=time.time()\n",
        "  correct=0\n",
        "  times_correct=[]\n",
        "  for i in range(number_of_reads):\n",
        "    read,ref,location=simulate_read(read_length,ref_length)\n",
        "    best_read,number_matches,best_match, read_time=align_test(read,ref)\n",
        "    if (len(best_read)+2)>=read_length:\n",
        "      correct=correct+1\n",
        "      times_correct.append(read_time)\n",
        "  accuracy=correct/number_of_reads\n",
        "  avg_time_correct=sum(times_correct)/len(times_correct)\n",
        "  end_overall=time.time()\n",
        "  overalltime=end_overall-start_overall\n",
        "  return accuracy,avg_time_correct, overalltime\n",
        "\n"
      ]
    },
    {
      "cell_type": "code",
      "execution_count": null,
      "metadata": {
        "id": "YJx0Z-1LK3C3"
      },
      "outputs": [],
      "source": [
        "accuracy,avg_time_correct, overalltime=test(20,1000,10000)"
      ]
    },
    {
      "cell_type": "code",
      "execution_count": null,
      "metadata": {
        "id": "o0oT3LabNRS4"
      },
      "outputs": [],
      "source": [
        "print(\"accuracy:%f\" %accuracy)\n",
        "print(\"avg_time_correct:%f\" %avg_time_correct)\n",
        "print(\"overalltime:%f\" %overalltime)"
      ]
    },
    {
      "cell_type": "code",
      "execution_count": null,
      "metadata": {
        "id": "LRIzZMVVlMyo"
      },
      "outputs": [],
      "source": [
        "#plot alignment function on randomly generated reads for varying number of reads:\n",
        "def plot_times(start,end,step):\n",
        "    times=[]\n",
        "    X=[]\n",
        "    for i in range(start,end,step):\n",
        "      X.append(i)\n",
        "      accuracy,avg_time_correct, overalltime=test(20,1000,i)\n",
        "      times.append(overalltime)\n",
        "    fig,ax=plt.subplots()\n",
        "    ax.plot(X,times,label='toy model')\n",
        "    ax.set_xlabel('number of reads')  # Add an x-label to the axes.\n",
        "    ax.set_ylabel('overall time')  # Add a y-label to the axes.\n",
        "    ax.legend()\n"
      ]
    },
    {
      "cell_type": "code",
      "execution_count": null,
      "metadata": {
        "colab": {
          "base_uri": "https://localhost:8080/",
          "height": 279
        },
        "id": "Kn87nB0_mvdt",
        "outputId": "97e63f5f-caed-4697-8876-addc574d13f9"
      },
      "outputs": [
        {
          "data": {
            "image/png": "[encoded data removed]",
            "text/plain": [
              "<Figure size 432x288 with 1 Axes>"
            ]
          },
          "metadata": {},
          "output_type": "display_data"
        }
      ],
      "source": [
        "plot_times(1000,10000,1000)"
      ]
    },
    {
      "cell_type": "code",
      "execution_count": null,
      "metadata": {
        "id": "X9-njX_uNRj-"
      },
      "outputs": [],
      "source": [
        "#test for comparison of speed of toy model and DP global alignment\n",
        "def S(x,y):\n",
        "  if x==y:\n",
        "    return 5\n",
        "  if x == '-' or y == '-': \n",
        "    return -2\n",
        "  else:\n",
        "    return -5\n",
        "\n",
        "def DPcompare(x,y,S):\n",
        "  start_overall=time.time()\n",
        "  M=np.zeros((len(x),len(y)))\n",
        "  for i in range(len(x)):\n",
        "    for j in range(len(y)):\n",
        "      M[i,j]=max(\n",
        "          M[i-1,j-1]+S(x[i],y[j]),\n",
        "          M[i,j-1]+S(x[i],\"-\"),\n",
        "          M[i-1,j]+S(\"-\",y[j])\n",
        "      )\n",
        "  end_overall=time.time()\n",
        "  overalltime=end_overall-start_overall\n",
        "  return M[len(x)-1,len(y)-1],overalltime\n",
        "\n",
        "def modelcompare(read,ref):\n",
        "  start_overall=time.time()\n",
        "  correct=0\n",
        "  best_read,number_matches,best_match, read_time=align_test(read,ref)\n",
        "  if (len(best_read)+2)>=len(read):\n",
        "    correct=correct+1\n",
        "  end_overall=time.time()\n",
        "  overalltime=end_overall-start_overall\n",
        "  return overalltime\n",
        "\n",
        "def compare_plot(read_length,ref_length,number_of_reads):\n",
        "  modeltimes=[]\n",
        "  DPtimes=[]\n",
        "  X=[]\n",
        "  for i in range(1,number_of_reads,1000):\n",
        "    read,ref,location=simulate_read(read_length,ref_length)\n",
        "    X.append(i)\n",
        "    model=modelcompare(read,ref)\n",
        "    modeltimes.append(model)\n",
        "    M,dptime=DPcompare(read,ref,S)\n",
        "    DPtimes.append(dptime)\n",
        "  fig,ax=plt.subplots()\n",
        "  ax.plot(X,modeltimes,label='toy model')\n",
        "  ax.plot(X,DPtimes,label='DP global alignment')\n",
        "  ax.set_xlabel('number of reads')  # Add an x-label to the axes.\n",
        "  ax.set_ylabel('overall time')  # Add a y-label to the axes.\n",
        "  ax.legend()"
      ]
    },
    {
      "cell_type": "code",
      "execution_count": null,
      "metadata": {
        "colab": {
          "base_uri": "https://localhost:8080/",
          "height": 279
        },
        "id": "l5MXpWK4P3C6",
        "outputId": "c4d17229-72f9-410e-ab8a-7c62551d8920"
      },
      "outputs": [
        {
          "data": {
            "image/png": "[encoded data removed]",
            "text/plain": [
              "<Figure size 432x288 with 1 Axes>"
            ]
          },
          "metadata": {},
          "output_type": "display_data"
        }
      ],
      "source": [
        "#average time per read, baseline test \n",
        "compare_plot(20,1000,100)"
      ]
    },
    {
      "cell_type": "code",
      "execution_count": null,
      "metadata": {
        "colab": {
          "base_uri": "https://localhost:8080/",
          "height": 280
        },
        "id": "fQVmT2pPbCU9",
        "outputId": "2c723b62-acf8-4d32-8318-29275e92e587"
      },
      "outputs": [
        {
          "data": {
            "image/png": "[encoded data removed]",
            "text/plain": [
              "<Figure size 432x288 with 1 Axes>"
            ]
          },
          "metadata": {},
          "output_type": "display_data"
        }
      ],
      "source": [
        "compare_plot(20,1000,10000)"
      ]
    },
    {
      "cell_type": "code",
      "execution_count": null,
      "metadata": {
        "colab": {
          "base_uri": "https://localhost:8080/",
          "height": 279
        },
        "id": "UzbTmgrRztQc",
        "outputId": "d474096c-2208-4dbf-a4d6-6e68084440b2"
      },
      "outputs": [
        {
          "data": {
            "image/png": "[encoded data removed]",
            "text/plain": [
              "<Figure size 432x288 with 1 Axes>"
            ]
          },
          "metadata": {},
          "output_type": "display_data"
        }
      ],
      "source": [
        "compare_plot(20,1000,100000)"
      ]
    },
    {
      "cell_type": "code",
      "execution_count": null,
      "metadata": {
        "id": "HZiI-N2r0xsi"
      },
      "outputs": [],
      "source": [
        "def compare_plot2(read_length):\n",
        "  modeltimes=[]\n",
        "  DPtimes=[]\n",
        "  X=[]\n",
        "  for i in range(100,10000,1000):\n",
        "    read,ref,location=simulate_read(read_length,i)\n",
        "    X.append(i)\n",
        "    model=modelcompare(read,ref)\n",
        "    modeltimes.append(model)\n",
        "    M,dptime=DPcompare(read,ref,S)\n",
        "    DPtimes.append(dptime)\n",
        "  fig,ax=plt.subplots()\n",
        "  ax.plot(X,modeltimes,label='toy model')\n",
        "  ax.plot(X,DPtimes,label='DP global alignment')\n",
        "  ax.set_xlabel('reference length')  # Add an x-label to the axes.\n",
        "  ax.set_ylabel('overall time')  # Add a y-label to the axes.\n",
        "  ax.legend()"
      ]
    },
    {
      "cell_type": "code",
      "execution_count": null,
      "metadata": {
        "colab": {
          "base_uri": "https://localhost:8080/",
          "height": 279
        },
        "id": "SiwHle485K05",
        "outputId": "b047c8ab-0f29-46f7-a256-4fad0586890c"
      },
      "outputs": [
        {
          "data": {
            "image/png": "[encoded data removed]",
            "text/plain": [
              "<Figure size 432x288 with 1 Axes>"
            ]
          },
          "metadata": {},
          "output_type": "display_data"
        }
      ],
      "source": [
        "#runtime vs. reference length\n",
        "compare_plot2(50)"
      ]
    },
    {
      "cell_type": "code",
      "execution_count": null,
      "metadata": {
        "id": "mhUIGbqFsoK-"
      },
      "outputs": [],
      "source": [
        ""
      ]
    },
    {
      "cell_type": "code",
      "execution_count": null,
      "metadata": {
        "id": "fVaS8Oczsojo"
      },
      "outputs": [],
      "source": [
        "#test for comparison of speed of toy model and DP global alignment\n",
        "def S(x,y):\n",
        "  if x==y:\n",
        "    return 5\n",
        "  if x == '-' or y == '-': \n",
        "    return -2\n",
        "  else:\n",
        "    return -5\n",
        "\n",
        "def DPcompare(x,y,S):\n",
        "  M=np.zeros((len(x),len(y)))\n",
        "  for i in range(len(x)):\n",
        "    for j in range(len(y)):\n",
        "      M[i,j]=max(\n",
        "          M[i-1,j-1]+S(x[i],y[j]),\n",
        "          M[i,j-1]+S(x[i],\"-\"),\n",
        "          M[i-1,j]+S(\"-\",y[j])\n",
        "      )\n",
        "  return M[len(x)-1,len(y)-1]\n",
        "\n",
        "def modelcompare(read,ref):\n",
        "  correct=0\n",
        "  best_read,number_matches,best_match, read_time=align_test(read,ref)\n",
        "  if (len(best_read)+2)>=len(read):\n",
        "    correct=correct+1\n",
        "  return correct\n",
        "\n",
        "def compare_plot3(read_length,ref_length,number_of_reads):\n",
        "  modeltimes=[]\n",
        "  DPtimes=[]\n",
        "  X=[]\n",
        "  for i in range(1,number_of_reads,20):\n",
        "    X.append(i)\n",
        "    reads=[]\n",
        "    refs=[]\n",
        "    for j in range(i):\n",
        "      read,ref,location=simulate_read(read_length,ref_length)\n",
        "      reads.append(read)\n",
        "      refs.append(ref)\n",
        "\n",
        "    model_start=time.time()\n",
        "    for j in range(i):\n",
        "      model=modelcompare(reads[j],refs[j])\n",
        "    model_end=time.time()\n",
        "    modeltimes.append(model_end-model_start)\n",
        "\n",
        "    DPstart=time.time()\n",
        "    for j in range(i):\n",
        "      DP=DPcompare(reads[j],refs[j],S)\n",
        "    DP_end=time.time()\n",
        "    DPtimes.append(DP_end-DPstart)\n",
        "  fig,ax=plt.subplots()\n",
        "  ax.plot(X,modeltimes,label='toy model')\n",
        "  ax.plot(X,DPtimes,label='DP global alignment')\n",
        "  ax.set_xlabel('number of reads')  # Add an x-label to the axes.\n",
        "  ax.set_ylabel('overall time')  # Add a y-label to the axes.\n",
        "  ax.legend()"
      ]
    },
    {
      "cell_type": "code",
      "execution_count": null,
      "metadata": {
        "colab": {
          "base_uri": "https://localhost:8080/",
          "height": 463
        },
        "id": "HKZWIooCuQQw",
        "outputId": "839b9a77-17bf-46aa-db8f-1cdb2ccd8045"
      },
      "outputs": [
        {
          "name": "stdout",
          "output_type": "stream",
          "text": [
            "[] []\n",
            "[] []\n",
            "[] []\n",
            "[] []\n",
            "[] []\n",
            "[] []\n",
            "[] []\n",
            "[] []\n",
            "[] []\n",
            "[] []\n"
          ]
        },
        {
          "data": {
            "image/png": "[encoded data removed]",
            "text/plain": [
              "<Figure size 432x288 with 1 Axes>"
            ]
          },
          "metadata": {},
          "output_type": "display_data"
        }
      ],
      "source": [
        "#runtime vs number reads\n",
        "compare_plot3(20,1000,100)"
      ]
    },
    {
      "cell_type": "code",
      "execution_count": null,
      "metadata": {
        "colab": {
          "background_save": true
        },
        "id": "cMudlbZz1gNy",
        "outputId": "2290a4dc-3192-41ce-ccd7-dbded18af49c"
      },
      "outputs": [
        {
          "data": {
            "image/png": "[encoded data removed]",
            "text/plain": [
              "<Figure size 432x288 with 1 Axes>"
            ]
          },
          "metadata": {},
          "output_type": "display_data"
        }
      ],
      "source": [
        "compare_plot3(20,1000,200)"
      ]
    }
  ],
  "metadata": {
    "colab": {
      "collapsed_sections": [],
      "name": "model.ipynb",
      "provenance": []
    },
    "kernelspec": {
      "display_name": "Python 3",
      "name": "python3"
    },
    "language_info": {
      "name": "python"
    }
  },
  "nbformat": 4,
  "nbformat_minor": 0
}
{
  "nbformat": 4,
  "nbformat_minor": 0,
  "metadata": {
    "colab": {
      "name": "paladin_testing.ipynb",
      "provenance": [],
      "collapsed_sections": []
    },
    "kernelspec": {
      "name": "python3",
      "display_name": "Python 3"
    },
    "language_info": {
      "name": "python"
    }
  },
  "cells": [
    {
      "cell_type": "code",
      "execution_count": null,
      "metadata": {
        "colab": {
          "base_uri": "https://localhost:8080/"
        },
        "id": "kO8YEY5naMJn",
        "outputId": "8997063f-7f53-44fb-d308-37d77682527d"
      },
      "outputs": [
        {
          "output_type": "stream",
          "name": "stdout",
          "text": [
            "Mounted at /content/gdrive\n"
          ]
        }
      ],
      "source": [
        "from google.colab import drive\n",
        "drive.mount(\"/content/gdrive\")"
      ]
    },
    {
      "cell_type": "code",
      "source": [
        "!git clone https://github.com/twestbrookunh/paladin.git"
      ],
      "metadata": {
        "colab": {
          "base_uri": "https://localhost:8080/"
        },
        "id": "1jlZ2Y8Rc5lp",
        "outputId": "4049e632-fc46-44ca-e469-faa863f338f2"
      },
      "execution_count": null,
      "outputs": [
        {
          "output_type": "stream",
          "name": "stdout",
          "text": [
            "Cloning into 'paladin'...\n",
            "remote: Enumerating objects: 608, done.\u001b[K\n",
            "remote: Total 608 (delta 0), reused 0 (delta 0), pack-reused 608\u001b[K\n",
            "Receiving objects: 100% (608/608), 17.29 MiB | 16.41 MiB/s, done.\n",
            "Resolving deltas: 100% (363/363), done.\n"
          ]
        }
      ]
    },
    {
      "cell_type": "code",
      "source": [
        "cd paladin/"
      ],
      "metadata": {
        "colab": {
          "base_uri": "https://localhost:8080/"
        },
        "id": "e89OY2fRdOhP",
        "outputId": "822b3486-1472-453a-d71c-451ab0faf4ac"
      },
      "execution_count": null,
      "outputs": [
        {
          "output_type": "stream",
          "name": "stdout",
          "text": [
            "/content/paladin\n"
          ]
        }
      ]
    },
    {
      "cell_type": "code",
      "source": [
        "!make"
      ],
      "metadata": {
        "colab": {
          "base_uri": "https://localhost:8080/"
        },
        "id": "RiPRTbH6Jf3o",
        "outputId": "eff4bbd5-5d8e-4aa9-cfa3-5aa6e7b52825"
      },
      "execution_count": null,
      "outputs": [
        {
          "output_type": "stream",
          "name": "stdout",
          "text": [
            "gcc -c -g -Wall -Wno-unused-function -Wno-unused-result -O2  -DHAVE_PTHREAD -DUSE_MALLOC_WRAPPERS  utils.c -o utils.o\n",
            "gcc -c -g -Wall -Wno-unused-function -Wno-unused-result -O2  -DHAVE_PTHREAD -DUSE_MALLOC_WRAPPERS  kthread.c -o kthread.o\n",
            "gcc -c -g -Wall -Wno-unused-function -Wno-unused-result -O2  -DHAVE_PTHREAD -DUSE_MALLOC_WRAPPERS  kstring.c -o kstring.o\n",
            "gcc -c -g -Wall -Wno-unused-function -Wno-unused-result -O2  -DHAVE_PTHREAD -DUSE_MALLOC_WRAPPERS  ksw.c -o ksw.o\n",
            "gcc -c -g -Wall -Wno-unused-function -Wno-unused-result -O2  -DHAVE_PTHREAD -DUSE_MALLOC_WRAPPERS  bwt.c -o bwt.o\n",
            "gcc -c -g -Wall -Wno-unused-function -Wno-unused-result -O2  -DHAVE_PTHREAD -DUSE_MALLOC_WRAPPERS  bntseq.c -o bntseq.o\n",
            "gcc -c -g -Wall -Wno-unused-function -Wno-unused-result -O2  -DHAVE_PTHREAD -DUSE_MALLOC_WRAPPERS  bwa.c -o bwa.o\n",
            "gcc -c -g -Wall -Wno-unused-function -Wno-unused-result -O2  -DHAVE_PTHREAD -DUSE_MALLOC_WRAPPERS  bwamem.c -o bwamem.o\n",
            "gcc -c -g -Wall -Wno-unused-function -Wno-unused-result -O2  -DHAVE_PTHREAD -DUSE_MALLOC_WRAPPERS  bwamem_pair.c -o bwamem_pair.o\n",
            "gcc -c -g -Wall -Wno-unused-function -Wno-unused-result -O2  -DHAVE_PTHREAD -DUSE_MALLOC_WRAPPERS  bwamem_extra.c -o bwamem_extra.o\n",
            "gcc -c -g -Wall -Wno-unused-function -Wno-unused-result -O2  -DHAVE_PTHREAD -DUSE_MALLOC_WRAPPERS  malloc_wrap.c -o malloc_wrap.o\n",
            "ar -csru libbwa.a utils.o kthread.o kstring.o ksw.o bwt.o bntseq.o bwa.o bwamem.o bwamem_pair.o bwamem_extra.o malloc_wrap.o\n",
            "ar: `u' modifier ignored since `D' is the default (see `U')\n",
            "gcc -c -g -Wall -Wno-unused-function -Wno-unused-result -O2  -DHAVE_PTHREAD -DUSE_MALLOC_WRAPPERS  is.c -o is.o\n",
            "gcc -c -g -Wall -Wno-unused-function -Wno-unused-result -O2  -DHAVE_PTHREAD -DUSE_MALLOC_WRAPPERS  bwtindex.c -o bwtindex.o\n",
            "gcc -c -g -Wall -Wno-unused-function -Wno-unused-result -O2  -DHAVE_PTHREAD -DUSE_MALLOC_WRAPPERS  kopen.c -o kopen.o\n",
            "gcc -c -g -Wall -Wno-unused-function -Wno-unused-result -O2  -DHAVE_PTHREAD -DUSE_MALLOC_WRAPPERS  align.c -o align.o\n",
            "gcc -c -g -Wall -Wno-unused-function -Wno-unused-result -O2  -DHAVE_PTHREAD -DUSE_MALLOC_WRAPPERS  translations.c -o translations.o\n",
            "gcc -c -g -Wall -Wno-unused-function -Wno-unused-result -O2  -DHAVE_PTHREAD -DUSE_MALLOC_WRAPPERS  protein.c -o protein.o\n",
            "gcc -c -g -Wall -Wno-unused-function -Wno-unused-result -O2  -DHAVE_PTHREAD -DUSE_MALLOC_WRAPPERS  uniprot.c -o uniprot.o\n",
            "gcc -c -g -Wall -Wno-unused-function -Wno-unused-result -O2  -DHAVE_PTHREAD -DUSE_MALLOC_WRAPPERS  bwashm.c -o bwashm.o\n",
            "gcc -c -g -Wall -Wno-unused-function -Wno-unused-result -O2  -DHAVE_PTHREAD -DUSE_MALLOC_WRAPPERS  main.c -o main.o\n",
            "gcc -g -Wall -Wno-unused-function -Wno-unused-result -O2  -DHAVE_PTHREAD -DUSE_MALLOC_WRAPPERS is.o bwtindex.o kopen.o align.o translations.o protein.o uniprot.o bwashm.o main.o -o paladin -L. -lbwa -lcurl -lm -lz -lpthread -lrt\n"
          ]
        }
      ]
    },
    {
      "cell_type": "code",
      "source": [
        "!curl -O ftp://ftp.sra.ebi.ac.uk/vol1/fastq/SRR117/002/SRR1177122/SRR1177122.fastq.gz"
      ],
      "metadata": {
        "colab": {
          "base_uri": "https://localhost:8080/"
        },
        "id": "Ult_l3REJu5q",
        "outputId": "d4fa5311-955e-4b40-d86e-ff977d63e033"
      },
      "execution_count": null,
      "outputs": [
        {
          "output_type": "stream",
          "name": "stdout",
          "text": [
            "  % Total    % Received % Xferd  Average Speed   Time    Time     Time  Current\n",
            "                                 Dload  Upload   Total   Spent    Left  Speed\n",
            "100 47.5M  100 47.5M    0     0  10.4M      0  0:00:04  0:00:04 --:--:-- 10.7M\n"
          ]
        }
      ]
    },
    {
      "cell_type": "code",
      "source": [
        "!chmod 777 /content/gdrive/MyDrive/CBMF_project/paladin/paladin"
      ],
      "metadata": {
        "id": "8QI7BBiEcKkj"
      },
      "execution_count": null,
      "outputs": []
    },
    {
      "cell_type": "code",
      "source": [
        "!/content/gdrive/MyDrive/CBMF_project/paladin/paladin prepare -r1"
      ],
      "metadata": {
        "colab": {
          "base_uri": "https://localhost:8080/"
        },
        "id": "K7twBNXub_6r",
        "outputId": "8dd3e03f-af30-4863-c24c-711959af295e"
      },
      "execution_count": null,
      "outputs": [
        {
          "output_type": "stream",
          "name": "stdout",
          "text": [
            "[M::downloadUniprotReference] Downloading ftp://ftp.uniprot.org/pub/databases/uniprot/current_release/knowledgebase/complete/uniprot_sprot.fasta.gz...\n",
            "[M::cleanUniprotReference] Cleaning UniProt reference...\n",
            "[M::command_index] Translating protein sequence...0.00 sec\n",
            "[M::command_index] Packing protein sequence... 4.74 sec\n",
            "[M::command_index] Constructing BWT for the packed sequence... tcmalloc: large alloc 3275177984 bytes == 0x5625b7290000 @  0x7f999d9fa001 0x56257f6544cc 0x56257f62ce52 0x56257f62d30f 0x56257f62ddcf 0x56257f62e341 0x56257f62c182 0x7f999c991c87 0x56257f62c2aa\n",
            "200.63 sec\n",
            "[M::command_index] Updating BWT... tcmalloc: large alloc 1228193792 bytes == 0x56259ec20000 @  0x7f999d9fa001 0x56257f6544cc 0x56257f62d4a5 0x56257f62de4d 0x56257f62e341 0x56257f62c182 0x7f999c991c87 0x56257f62c2aa\n",
            "3.44 sec\n",
            "[M::command_index] Packing forward-only protein squence... 3.51 sec\n",
            "[M::command_index] Constructing suffix array... 126.62 sec\n",
            "[main] Version: 1.4.6\n",
            "[main] CMD: /content/gdrive/MyDrive/CBMF_project/paladin/paladin prepare -r1\n",
            "[main] Real time: 350.160 sec; CPU: 339.101 sec\n"
          ]
        }
      ]
    },
    {
      "cell_type": "code",
      "source": [
        "!/content/gdrive/MyDrive/CBMF_project/paladin/paladin align -t 4 -o lungstudy uniprot_sprot.fasta.gz SRR1177122.fastq.gz"
      ],
      "metadata": {
        "colab": {
          "base_uri": "https://localhost:8080/"
        },
        "id": "QZji3RccRp0w",
        "outputId": "6ef838ce-fe59-4a97-d73a-ba53bb616a66"
      },
      "execution_count": null,
      "outputs": [
        {
          "output_type": "stream",
          "name": "stdout",
          "text": [
            "[M::command_align] Loading the index for reference 'uniprot_sprot.fasta.gz'...\n",
            "tcmalloc: large alloc 1228193792 bytes == 0x560e72f5c000 @  0x7ff228091001 0x560e721c24cc 0x560e721a862d 0x560e721abcc6 0x560e721abdf0 0x560e7219ef86 0x560e7219a1d6 0x7ff227028c87 0x560e7219a2aa\n",
            "[M::index_load_from_disk] Read 0 ALT contigs\n",
            "[M::writeReadsProtein] Detecting open reading frames...\n",
            "[M::writeReadsProtein] Detected and translated 220124 open reading frames in 350734 sequences\n",
            "[M::process] Read 478310 protein sequences (40000121 AA)...\n",
            "[M::process] Read 477844 protein sequences (40000073 AA)...\n",
            "[M::mem_process_seqs] Processed 478310 protein sequences in 191.362 CPU sec, 98.010 real sec\n",
            "[M::process] Read 364590 protein sequences (30640128 AA)...\n",
            "[M::mem_process_seqs] Processed 477844 protein sequences in 191.630 CPU sec, 99.308 real sec\n",
            "[M::mem_process_seqs] Processed 364590 protein sequences in 147.220 CPU sec, 75.509 real sec\n",
            "[M::renderNumberAligned] Aligned 53386 out of 221431 total detected ORF sequences (24.11%)\n",
            "[M::prepareUniprotLists] Aggregating 53386 entries for UniProt report\n",
            "[M::retrieveUniprotOnline] Submitting 5000 of 14820 entries to UniProt...\n",
            "[M::retrieveUniprotOnline] Submitting 10000 of 14820 entries to UniProt...\n",
            "[M::retrieveUniprotOnline] Submitting 14820 of 14820 entries to UniProt...\n",
            "[main] Version: 1.4.6\n",
            "[main] CMD: /content/gdrive/MyDrive/CBMF_project/paladin/paladin align -t 4 -o lungstudy uniprot_sprot.fasta.gz SRR1177122.fastq.gz\n",
            "[main] Real time: 462.576 sec; CPU: 536.837 sec\n"
          ]
        }
      ]
    },
    {
      "cell_type": "code",
      "source": [
        "!git clone https://github.com/ncsa/NEAT.git"
      ],
      "metadata": {
        "id": "fkEOMtRqE0Va",
        "outputId": "f66bcf98-f459-48f3-a84b-f5c3fb150931",
        "colab": {
          "base_uri": "https://localhost:8080/"
        }
      },
      "execution_count": null,
      "outputs": [
        {
          "output_type": "stream",
          "name": "stdout",
          "text": [
            "Cloning into 'NEAT'...\n",
            "remote: Enumerating objects: 6450, done.\u001b[K\n",
            "remote: Counting objects: 100% (431/431), done.\u001b[K\n",
            "remote: Compressing objects: 100% (146/146), done.\u001b[K\n",
            "remote: Total 6450 (delta 307), reused 295 (delta 285), pack-reused 6019\u001b[K\n",
            "Receiving objects: 100% (6450/6450), 109.80 MiB | 16.85 MiB/s, done.\n",
            "Resolving deltas: 100% (4402/4402), done.\n"
          ]
        }
      ]
    },
    {
      "cell_type": "code",
      "source": [
        "cd NEAT"
      ],
      "metadata": {
        "colab": {
          "base_uri": "https://localhost:8080/"
        },
        "id": "cvqt9aKXTv4V",
        "outputId": "a1319a12-4cab-43c6-b4cb-e34e0301848e"
      },
      "execution_count": null,
      "outputs": [
        {
          "output_type": "stream",
          "name": "stdout",
          "text": [
            "/content/NEAT\n"
          ]
        }
      ]
    },
    {
      "cell_type": "code",
      "source": [
        "import Bio"
      ],
      "metadata": {
        "id": "YyIRJ8CCXYbP",
        "outputId": "d6560e49-57b1-44bd-b1ef-f04a4eb42028",
        "colab": {
          "base_uri": "https://localhost:8080/",
          "height": 318
        }
      },
      "execution_count": null,
      "outputs": [
        {
          "output_type": "error",
          "ename": "ModuleNotFoundError",
          "evalue": "ignored",
          "traceback": [
            "\u001b[0;31m---------------------------------------------------------------------------\u001b[0m",
            "\u001b[0;31mModuleNotFoundError\u001b[0m                       Traceback (most recent call last)",
            "\u001b[0;32m<ipython-input-9-f227b1b7f7f3>\u001b[0m in \u001b[0;36m<module>\u001b[0;34m()\u001b[0m\n\u001b[0;32m----> 1\u001b[0;31m \u001b[0;32mimport\u001b[0m \u001b[0mBio\u001b[0m\u001b[0;34m\u001b[0m\u001b[0;34m\u001b[0m\u001b[0m\n\u001b[0m",
            "\u001b[0;31mModuleNotFoundError\u001b[0m: No module named 'Bio'",
            "",
            "\u001b[0;31m---------------------------------------------------------------------------\u001b[0;32m\nNOTE: If your import is failing due to a missing package, you can\nmanually install dependencies using either !pip or !apt.\n\nTo view examples of installing some common dependencies, click the\n\"Open Examples\" button below.\n\u001b[0;31m---------------------------------------------------------------------------\u001b[0m\n"
          ],
          "errorDetails": {
            "actions": [
              {
                "action": "open_url",
                "actionText": "Open Examples",
                "url": "/notebooks/snippets/importing_libraries.ipynb"
              }
            ]
          }
        }
      ]
    },
    {
      "cell_type": "code",
      "source": [
        "!python gen_reads.py -r sample_data/ecoli.fa -R 101 -o simulated_data"
      ],
      "metadata": {
        "colab": {
          "base_uri": "https://localhost:8080/"
        },
        "id": "vlELEZl4UK_3",
        "outputId": "2f220907-013e-425e-d9f3-c34ee44a6bc7"
      },
      "execution_count": null,
      "outputs": [
        {
          "output_type": "stream",
          "name": "stdout",
          "text": [
            "Traceback (most recent call last):\n",
            "  File \"gen_reads.py\", line 29, in <module>\n",
            "    from source.ref_func import index_ref, read_ref\n",
            "  File \"/content/NEAT/source/ref_func.py\", line 7, in <module>\n",
            "    from Bio.Seq import Seq\n",
            "ModuleNotFoundError: No module named 'Bio'\n"
          ]
        }
      ]
    }
  ]
}